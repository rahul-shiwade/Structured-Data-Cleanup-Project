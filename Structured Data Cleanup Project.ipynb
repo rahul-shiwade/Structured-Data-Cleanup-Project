{
 "cells": [
  {
   "cell_type": "markdown",
   "id": "040a472d",
   "metadata": {},
   "source": [
    "# Data Cleaning Project\n",
    "\n",
    "# This notebook walks through the process of cleaning a dataset using Python and pandas. The steps include handling missing values, removing duplicates, correcting data types, and preparing the data for analysis.\n"
   ]
  },
  {
   "cell_type": "code",
   "execution_count": 9,
   "id": "2ef49304",
   "metadata": {},
   "outputs": [],
   "source": [
    "##Importing Libraries\n",
    "## Here we import the necessary Python libraries for data manipulation and analysis.\n",
    "\n",
    "import pandas as pd\n",
    "import seaborn as sns\n",
    "import matplotlib.pyplot as plt\n",
    "\n"
   ]
  },
  {
   "cell_type": "code",
   "execution_count": 10,
   "id": "f7204151",
   "metadata": {},
   "outputs": [
    {
     "data": {
      "text/html": [
       "<div>\n",
       "<style scoped>\n",
       "    .dataframe tbody tr th:only-of-type {\n",
       "        vertical-align: middle;\n",
       "    }\n",
       "\n",
       "    .dataframe tbody tr th {\n",
       "        vertical-align: top;\n",
       "    }\n",
       "\n",
       "    .dataframe thead th {\n",
       "        text-align: right;\n",
       "    }\n",
       "</style>\n",
       "<table border=\"1\" class=\"dataframe\">\n",
       "  <thead>\n",
       "    <tr style=\"text-align: right;\">\n",
       "      <th></th>\n",
       "      <th>Transaction ID</th>\n",
       "      <th>Item</th>\n",
       "      <th>Quantity</th>\n",
       "      <th>Price Per Unit</th>\n",
       "      <th>Total Spent</th>\n",
       "      <th>Payment Method</th>\n",
       "      <th>Location</th>\n",
       "      <th>Transaction Date</th>\n",
       "    </tr>\n",
       "  </thead>\n",
       "  <tbody>\n",
       "    <tr>\n",
       "      <th>0</th>\n",
       "      <td>TXN_1961373</td>\n",
       "      <td>Coffee</td>\n",
       "      <td>2</td>\n",
       "      <td>2.0</td>\n",
       "      <td>4.0</td>\n",
       "      <td>Credit Card</td>\n",
       "      <td>Takeaway</td>\n",
       "      <td>2023-09-08</td>\n",
       "    </tr>\n",
       "    <tr>\n",
       "      <th>1</th>\n",
       "      <td>TXN_4977031</td>\n",
       "      <td>Cake</td>\n",
       "      <td>4</td>\n",
       "      <td>3.0</td>\n",
       "      <td>12.0</td>\n",
       "      <td>Cash</td>\n",
       "      <td>In-store</td>\n",
       "      <td>2023-05-16</td>\n",
       "    </tr>\n",
       "    <tr>\n",
       "      <th>2</th>\n",
       "      <td>TXN_4271903</td>\n",
       "      <td>Cookie</td>\n",
       "      <td>4</td>\n",
       "      <td>1.0</td>\n",
       "      <td>ERROR</td>\n",
       "      <td>Credit Card</td>\n",
       "      <td>In-store</td>\n",
       "      <td>2023-07-19</td>\n",
       "    </tr>\n",
       "    <tr>\n",
       "      <th>3</th>\n",
       "      <td>TXN_7034554</td>\n",
       "      <td>Salad</td>\n",
       "      <td>2</td>\n",
       "      <td>5.0</td>\n",
       "      <td>10.0</td>\n",
       "      <td>UNKNOWN</td>\n",
       "      <td>UNKNOWN</td>\n",
       "      <td>2023-04-27</td>\n",
       "    </tr>\n",
       "    <tr>\n",
       "      <th>4</th>\n",
       "      <td>TXN_3160411</td>\n",
       "      <td>Coffee</td>\n",
       "      <td>2</td>\n",
       "      <td>2.0</td>\n",
       "      <td>4.0</td>\n",
       "      <td>Digital Wallet</td>\n",
       "      <td>In-store</td>\n",
       "      <td>2023-06-11</td>\n",
       "    </tr>\n",
       "    <tr>\n",
       "      <th>5</th>\n",
       "      <td>TXN_2602893</td>\n",
       "      <td>Smoothie</td>\n",
       "      <td>5</td>\n",
       "      <td>4.0</td>\n",
       "      <td>20.0</td>\n",
       "      <td>Credit Card</td>\n",
       "      <td>NaN</td>\n",
       "      <td>2023-03-31</td>\n",
       "    </tr>\n",
       "    <tr>\n",
       "      <th>6</th>\n",
       "      <td>TXN_4433211</td>\n",
       "      <td>UNKNOWN</td>\n",
       "      <td>3</td>\n",
       "      <td>3.0</td>\n",
       "      <td>9.0</td>\n",
       "      <td>ERROR</td>\n",
       "      <td>Takeaway</td>\n",
       "      <td>2023-10-06</td>\n",
       "    </tr>\n",
       "    <tr>\n",
       "      <th>7</th>\n",
       "      <td>TXN_6699534</td>\n",
       "      <td>Sandwich</td>\n",
       "      <td>4</td>\n",
       "      <td>4.0</td>\n",
       "      <td>16.0</td>\n",
       "      <td>Cash</td>\n",
       "      <td>UNKNOWN</td>\n",
       "      <td>2023-10-28</td>\n",
       "    </tr>\n",
       "    <tr>\n",
       "      <th>8</th>\n",
       "      <td>TXN_4717867</td>\n",
       "      <td>NaN</td>\n",
       "      <td>5</td>\n",
       "      <td>3.0</td>\n",
       "      <td>15.0</td>\n",
       "      <td>NaN</td>\n",
       "      <td>Takeaway</td>\n",
       "      <td>2023-07-28</td>\n",
       "    </tr>\n",
       "    <tr>\n",
       "      <th>9</th>\n",
       "      <td>TXN_2064365</td>\n",
       "      <td>Sandwich</td>\n",
       "      <td>5</td>\n",
       "      <td>4.0</td>\n",
       "      <td>20.0</td>\n",
       "      <td>NaN</td>\n",
       "      <td>In-store</td>\n",
       "      <td>2023-12-31</td>\n",
       "    </tr>\n",
       "  </tbody>\n",
       "</table>\n",
       "</div>"
      ],
      "text/plain": [
       "  Transaction ID      Item Quantity Price Per Unit Total Spent  \\\n",
       "0    TXN_1961373    Coffee        2            2.0         4.0   \n",
       "1    TXN_4977031      Cake        4            3.0        12.0   \n",
       "2    TXN_4271903    Cookie        4            1.0       ERROR   \n",
       "3    TXN_7034554     Salad        2            5.0        10.0   \n",
       "4    TXN_3160411    Coffee        2            2.0         4.0   \n",
       "5    TXN_2602893  Smoothie        5            4.0        20.0   \n",
       "6    TXN_4433211   UNKNOWN        3            3.0         9.0   \n",
       "7    TXN_6699534  Sandwich        4            4.0        16.0   \n",
       "8    TXN_4717867       NaN        5            3.0        15.0   \n",
       "9    TXN_2064365  Sandwich        5            4.0        20.0   \n",
       "\n",
       "   Payment Method  Location Transaction Date  \n",
       "0     Credit Card  Takeaway       2023-09-08  \n",
       "1            Cash  In-store       2023-05-16  \n",
       "2     Credit Card  In-store       2023-07-19  \n",
       "3         UNKNOWN   UNKNOWN       2023-04-27  \n",
       "4  Digital Wallet  In-store       2023-06-11  \n",
       "5     Credit Card       NaN       2023-03-31  \n",
       "6           ERROR  Takeaway       2023-10-06  \n",
       "7            Cash   UNKNOWN       2023-10-28  \n",
       "8             NaN  Takeaway       2023-07-28  \n",
       "9             NaN  In-store       2023-12-31  "
      ]
     },
     "execution_count": 10,
     "metadata": {},
     "output_type": "execute_result"
    }
   ],
   "source": [
    "df=pd.read_csv('cafe_sales.csv')\n",
    "df.head(10)"
   ]
  },
  {
   "cell_type": "code",
   "execution_count": 6,
   "id": "ad99618a",
   "metadata": {},
   "outputs": [
    {
     "name": "stdout",
     "output_type": "stream",
     "text": [
      "<class 'pandas.core.frame.DataFrame'>\n",
      "RangeIndex: 10000 entries, 0 to 9999\n",
      "Data columns (total 8 columns):\n",
      " #   Column            Non-Null Count  Dtype \n",
      "---  ------            --------------  ----- \n",
      " 0   Transaction ID    10000 non-null  object\n",
      " 1   Item              9667 non-null   object\n",
      " 2   Quantity          9862 non-null   object\n",
      " 3   Price Per Unit    9821 non-null   object\n",
      " 4   Total Spent       9827 non-null   object\n",
      " 5   Payment Method    7421 non-null   object\n",
      " 6   Location          6735 non-null   object\n",
      " 7   Transaction Date  9841 non-null   object\n",
      "dtypes: object(8)\n",
      "memory usage: 625.1+ KB\n"
     ]
    }
   ],
   "source": [
    "df.info()\n"
   ]
  },
  {
   "cell_type": "markdown",
   "id": "e5af79fc",
   "metadata": {},
   "source": [
    "# Data Type Conversions\n",
    "## We ensure each column has the appropriate data type, converting where necessary.\n"
   ]
  },
  {
   "cell_type": "code",
   "execution_count": 12,
   "id": "9d9bdf05",
   "metadata": {},
   "outputs": [],
   "source": [
    "df['Quantity']=pd.to_numeric(df['Quantity'], errors='coerce')\n",
    "df['Price Per Unit'] = pd.to_numeric(df['Price Per Unit'], errors='coerce')\n",
    "df['Transaction Date']=pd.to_datetime(df['Transaction Date'], errors='coerce')\n",
    "df['Total Spent'] = pd.to_numeric(df['Total Spent'], errors='coerce')"
   ]
  },
  {
   "cell_type": "code",
   "execution_count": 10,
   "id": "db4421e6",
   "metadata": {},
   "outputs": [
    {
     "name": "stdout",
     "output_type": "stream",
     "text": [
      "<class 'pandas.core.frame.DataFrame'>\n",
      "RangeIndex: 10000 entries, 0 to 9999\n",
      "Data columns (total 8 columns):\n",
      " #   Column            Non-Null Count  Dtype         \n",
      "---  ------            --------------  -----         \n",
      " 0   Transaction ID    10000 non-null  object        \n",
      " 1   Item              9667 non-null   object        \n",
      " 2   Quantity          9521 non-null   float64       \n",
      " 3   Price Per Unit    9467 non-null   float64       \n",
      " 4   Total Spent       9498 non-null   float64       \n",
      " 5   Payment Method    7421 non-null   object        \n",
      " 6   Location          6735 non-null   object        \n",
      " 7   Transaction Date  9540 non-null   datetime64[ns]\n",
      "dtypes: datetime64[ns](1), float64(3), object(4)\n",
      "memory usage: 625.1+ KB\n"
     ]
    }
   ],
   "source": [
    "## here we can see Datatype is concverted\n",
    "df.info()"
   ]
  },
  {
   "cell_type": "markdown",
   "id": "9427bcbe",
   "metadata": {},
   "source": [
    "# Unique Values Exploration\n",
    "Understanding the unique values in each column helps reveal potential data quality issues\n",
    "\n"
   ]
  },
  {
   "cell_type": "code",
   "execution_count": null,
   "id": "d64f53db",
   "metadata": {},
   "outputs": [],
   "source": [
    "df.nunique()"
   ]
  },
  {
   "cell_type": "code",
   "execution_count": 17,
   "id": "56d5c00d",
   "metadata": {},
   "outputs": [
    {
     "data": {
      "text/plain": [
       "array(['Credit Card', 'Cash', 'UNKNOWN', 'Digital Wallet', 'ERROR', nan],\n",
       "      dtype=object)"
      ]
     },
     "execution_count": 17,
     "metadata": {},
     "output_type": "execute_result"
    }
   ],
   "source": [
    "df['Payment Method'].unique()"
   ]
  },
  {
   "cell_type": "code",
   "execution_count": 18,
   "id": "b62ffa0c",
   "metadata": {},
   "outputs": [
    {
     "data": {
      "text/plain": [
       "array(['Coffee', 'Cake', 'Cookie', 'Salad', 'Smoothie', 'UNKNOWN',\n",
       "       'Sandwich', nan, 'ERROR', 'Juice', 'Tea'], dtype=object)"
      ]
     },
     "execution_count": 18,
     "metadata": {},
     "output_type": "execute_result"
    }
   ],
   "source": [
    "df['Item'].unique()"
   ]
  },
  {
   "cell_type": "markdown",
   "id": "e6f69cb6",
   "metadata": {},
   "source": [
    "# Removing Duplicates\n",
    "\n",
    "## Here we check for and remove any duplicate rows to ensure data quality.\n",
    "\n",
    "\n",
    "\n"
   ]
  },
  {
   "cell_type": "code",
   "execution_count": 4,
   "id": "85fc90be",
   "metadata": {},
   "outputs": [
    {
     "name": "stdout",
     "output_type": "stream",
     "text": [
      "Duplicate rows: 0\n"
     ]
    }
   ],
   "source": [
    "print(\"Duplicate rows:\", df.duplicated().sum())"
   ]
  },
  {
   "cell_type": "code",
   "execution_count": 31,
   "id": "27c8f3ca",
   "metadata": {},
   "outputs": [
    {
     "data": {
      "text/plain": [
       "Transaction ID         0\n",
       "Item                 333\n",
       "Quantity             479\n",
       "Price Per Unit       533\n",
       "Total Spent          502\n",
       "Payment Method      2579\n",
       "Location            3265\n",
       "Transaction Date       0\n",
       "dtype: int64"
      ]
     },
     "execution_count": 31,
     "metadata": {},
     "output_type": "execute_result"
    }
   ],
   "source": [
    "df.isna().sum()"
   ]
  },
  {
   "cell_type": "markdown",
   "id": "ed469556",
   "metadata": {},
   "source": [
    "#  Visualizing Missing Data with a Heatmap\n",
    "\n",
    "# To get a better sense of where missing values occur in the dataset, we use a heatmap. This visual tool helps quickly identify patterns or clusters of missing data."
   ]
  },
  {
   "cell_type": "code",
   "execution_count": 21,
   "id": "1ef206f3",
   "metadata": {},
   "outputs": [
    {
     "data": {
      "text/plain": [
       "<Axes: >"
      ]
     },
     "execution_count": 21,
     "metadata": {},
     "output_type": "execute_result"
    },
    {
     "data": {
      "image/png": "[encoded data removed]",
      "text/plain": [
       "<Figure size 640x480 with 2 Axes>"
      ]
     },
     "metadata": {},
     "output_type": "display_data"
    }
   ],
   "source": [
    "sns.heatmap(df.isnull())"
   ]
  },
  {
   "cell_type": "markdown",
   "id": "c76df3f0",
   "metadata": {},
   "source": [
    "# We drop rows with any missing values"
   ]
  },
  {
   "cell_type": "code",
   "execution_count": 5,
   "id": "da72b352",
   "metadata": {},
   "outputs": [
    {
     "data": {
      "text/plain": [
       "Transaction ID      0\n",
       "Item                0\n",
       "Quantity            0\n",
       "Price Per Unit      0\n",
       "Total Spent         0\n",
       "Payment Method      0\n",
       "Location            0\n",
       "Transaction Date    0\n",
       "dtype: int64"
      ]
     },
     "execution_count": 5,
     "metadata": {},
     "output_type": "execute_result"
    }
   ],
   "source": [
    "\n",
    "\n",
    "df_cleaned=df.dropna()\n",
    "df_cleaned.isna().sum()"
   ]
  },
  {
   "cell_type": "markdown",
   "id": "070ed69e",
   "metadata": {},
   "source": [
    "# Handling Missing Values: Forward Fill & Backward Fill\n",
    "\n",
    "# In some cases, we use forward fill  or backward fill  to handle missing data"
   ]
  },
  {
   "cell_type": "code",
   "execution_count": 29,
   "id": "de5baa70",
   "metadata": {},
   "outputs": [
    {
     "data": {
      "text/plain": [
       "Transaction ID         0\n",
       "Item                 333\n",
       "Quantity             479\n",
       "Price Per Unit       533\n",
       "Total Spent          502\n",
       "Payment Method      2579\n",
       "Location            3265\n",
       "Transaction Date       0\n",
       "dtype: int64"
      ]
     },
     "execution_count": 29,
     "metadata": {},
     "output_type": "execute_result"
    }
   ],
   "source": [
    "df['Transaction ID']=df['Transaction ID'].fillna(method='bfill')\n",
    "df['Transaction Date']=df['Transaction Date'].fillna(method='ffill')\n",
    "\n",
    "df.isna().sum()"
   ]
  },
  {
   "cell_type": "markdown",
   "id": "1df648de",
   "metadata": {},
   "source": [
    "# Filling Missing Data with Simple Imputer\n",
    "\n",
    "# We use Simple Imputer from scikit-learn to automatically fill in missing values in the dataset."
   ]
  },
  {
   "cell_type": "code",
   "execution_count": 33,
   "id": "040a79e9",
   "metadata": {},
   "outputs": [
    {
     "data": {
      "text/plain": [
       "Transaction ID        0\n",
       "Item                  0\n",
       "Quantity            479\n",
       "Price Per Unit      533\n",
       "Total Spent         502\n",
       "Payment Method        0\n",
       "Location              0\n",
       "Transaction Date      0\n",
       "dtype: int64"
      ]
     },
     "execution_count": 33,
     "metadata": {},
     "output_type": "execute_result"
    }
   ],
   "source": [
    "\n",
    "from sklearn.impute import SimpleImputer\n",
    "sd=SimpleImputer(strategy='most_frequent')\n",
    "df[['Item', 'Payment Method', 'Location']]=sd.fit_transform(df[['Item', 'Payment Method', 'Location']])\n",
    "df.isna().sum()"
   ]
  },
  {
   "cell_type": "code",
   "execution_count": 35,
   "id": "c171cd4e",
   "metadata": {},
   "outputs": [
    {
     "data": {
      "text/plain": [
       "Transaction ID      0\n",
       "Item                0\n",
       "Quantity            0\n",
       "Price Per Unit      0\n",
       "Total Spent         0\n",
       "Payment Method      0\n",
       "Location            0\n",
       "Transaction Date    0\n",
       "dtype: int64"
      ]
     },
     "execution_count": 35,
     "metadata": {},
     "output_type": "execute_result"
    }
   ],
   "source": [
    "si=SimpleImputer(strategy='mean')\n",
    "df[['Price Per Unit','Quantity','Total Spent']]=si.fit_transform(df[['Price Per Unit','Quantity','Total Spent']])\n",
    "df.isna().sum()"
   ]
  },
  {
   "cell_type": "markdown",
   "id": "3dea0b90",
   "metadata": {},
   "source": [
    "# Heatmap : No Missing Values Detected\n",
    "\n",
    "# We plotted a heatmap to check for missing values, and the result shows that no missing data is present in the dataset.\n"
   ]
  },
  {
   "cell_type": "code",
   "execution_count": 36,
   "id": "daaf200a",
   "metadata": {},
   "outputs": [
    {
     "data": {
      "text/plain": [
       "<Axes: >"
      ]
     },
     "execution_count": 36,
     "metadata": {},
     "output_type": "execute_result"
    },
    {
     "data": {
      "image/png": "[encoded data removed]",
      "text/plain": [
       "<Figure size 640x480 with 2 Axes>"
      ]
     },
     "metadata": {},
     "output_type": "display_data"
    }
   ],
   "source": [
    "sns.heatmap(df.isnull())"
   ]
  },
  {
   "cell_type": "code",
   "execution_count": 13,
   "id": "95a696c0",
   "metadata": {},
   "outputs": [
    {
     "data": {
      "text/plain": [
       "<Axes: xlabel='Quantity'>"
      ]
     },
     "execution_count": 13,
     "metadata": {},
     "output_type": "execute_result"
    },
    {
     "data": {
      "image/png": "[encoded data removed]",
      "text/plain": [
       "<Figure size 640x480 with 1 Axes>"
      ]
     },
     "metadata": {},
     "output_type": "display_data"
    }
   ],
   "source": [
    "##  Boxplot of 'Quantity'\n",
    "\n",
    "# A boxplot gives us a clear picture of the distribution of values in the `Quantity` column. It highlights:\n",
    "\n",
    "sns.boxplot(x='Quantity', data=df)\n"
   ]
  },
  {
   "cell_type": "code",
   "execution_count": 38,
   "id": "37e6a525",
   "metadata": {},
   "outputs": [
    {
     "data": {
      "text/plain": [
       "<Axes: xlabel='Total Spent', ylabel='Count'>"
      ]
     },
     "execution_count": 38,
     "metadata": {},
     "output_type": "execute_result"
    },
    {
     "data": {
      "image/png": "[encoded data removed]",
      "text/plain": [
       "<Figure size 640x480 with 1 Axes>"
      ]
     },
     "metadata": {},
     "output_type": "display_data"
    }
   ],
   "source": [
    "sns.histplot(x='Total Spent', data=df,kde=True)"
   ]
  },
  {
   "cell_type": "markdown",
   "id": "4b94640a",
   "metadata": {},
   "source": [
    "# Detecting Outliers with IQR\n",
    "\n",
    "# The Interquartile Range (IQR) is a statistical method used to identify outliers in a dataset."
   ]
  },
  {
   "cell_type": "code",
   "execution_count": 43,
   "id": "5c7db1fe",
   "metadata": {},
   "outputs": [
    {
     "name": "stdout",
     "output_type": "stream",
     "text": [
      "8.0\n"
     ]
    }
   ],
   "source": [
    "q1=df['Total Spent'].quantile(0.25)\n",
    "q3=df['Total Spent'].quantile(0.75)\n",
    "IQR=q3-q1\n",
    "print(IQR)\n"
   ]
  },
  {
   "cell_type": "code",
   "execution_count": 44,
   "id": "1659affe",
   "metadata": {},
   "outputs": [],
   "source": [
    "min_range=q1-(1.5*IQR)\n",
    "max_range=q1+(1.5*IQR)"
   ]
  },
  {
   "cell_type": "code",
   "execution_count": 45,
   "id": "4b0b7a00",
   "metadata": {},
   "outputs": [],
   "source": [
    "new_df=df['Total Spent']<=max_range"
   ]
  },
  {
   "cell_type": "code",
   "execution_count": 46,
   "id": "1b714515",
   "metadata": {},
   "outputs": [
    {
     "data": {
      "text/plain": [
       "0       True\n",
       "1       True\n",
       "2       True\n",
       "3       True\n",
       "4       True\n",
       "        ... \n",
       "9995    True\n",
       "9996    True\n",
       "9997    True\n",
       "9998    True\n",
       "9999    True\n",
       "Name: Total Spent, Length: 10000, dtype: bool"
      ]
     },
     "execution_count": 46,
     "metadata": {},
     "output_type": "execute_result"
    }
   ],
   "source": [
    "new_df"
   ]
  },
  {
   "cell_type": "markdown",
   "id": "5216ebe4",
   "metadata": {},
   "source": [
    "# Feature Scaling\n",
    "\n",
    "# Feature scaling is the process of transforming numerical features so they share a common scale. This helps machine learning models perform better, especially those sensitive to the magnitude of input values.\n"
   ]
  },
  {
   "cell_type": "code",
   "execution_count": 47,
   "id": "c4b6f0e0",
   "metadata": {},
   "outputs": [
    {
     "data": {
      "text/plain": [
       "array([[-8.40789465e-01, -7.63746448e-01],\n",
       "       [ 5.25139502e-01,  4.02105902e-02],\n",
       "       [ 3.03297158e-16, -1.56770349e+00],\n",
       "       ...,\n",
       "       [-1.57824981e-01, -7.63746448e-01],\n",
       "       [-1.01153059e+00,  0.00000000e+00],\n",
       "       [ 5.25139502e-01,  8.44167629e-01]])"
      ]
     },
     "execution_count": 47,
     "metadata": {},
     "output_type": "execute_result"
    }
   ],
   "source": [
    "from sklearn.preprocessing import StandardScaler\n",
    "\n",
    "scaler = StandardScaler()\n",
    "df_scaled = scaler.fit_transform(df[['Total Spent','Price Per Unit']])\n",
    "df_scaled"
   ]
  },
  {
   "cell_type": "code",
   "execution_count": 14,
   "id": "54c4f9f7",
   "metadata": {},
   "outputs": [],
   "source": [
    "df.to_csv(\"cleaned_dataset.csv\", index=False)\n"
   ]
  },
  {
   "cell_type": "markdown",
   "id": "a84551d5",
   "metadata": {},
   "source": [
    "# Conclusion\n",
    "\n",
    "# The dataset has been cleaned successfully by handling missing values, \n",
    "# fixing data types, removing duplicates, and scaling features. \n",
    "# It's  now ready for analysis or modeling.\n"
   ]
  },
  {
   "cell_type": "code",
   "execution_count": null,
   "id": "7a84309c",
   "metadata": {},
   "outputs": [],
   "source": []
  }
 ],
 "metadata": {
  "kernelspec": {
   "display_name": "Python 3 (ipykernel)",
   "language": "python",
   "name": "python3"
  },
  "language_info": {
   "codemirror_mode": {
    "name": "ipython",
    "version": 3
   },
   "file_extension": ".py",
   "mimetype": "text/x-python",
   "name": "python",
   "nbconvert_exporter": "python",
   "pygments_lexer": "ipython3",
   "version": "3.11.4"
  }
 },
 "nbformat": 4,
 "nbformat_minor": 5
}
